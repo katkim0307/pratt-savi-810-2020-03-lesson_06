{
 "cells": [
  {
   "cell_type": "markdown",
   "metadata": {},
   "source": [
    "# Lesson 06 \n",
    "\n",
    "# Geoprocessing with GeoPandas (con't), Geospatial Data Models (Raster), Geocoding\n",
    "\n",
    "\n",
    "\n",
    "\n",
    "![http://www.pratt.edu/tiny_mce/plugins/imagemanager/files/Light_brown_blue22.jpg](http://www.pratt.edu/tiny_mce/plugins/imagemanager/files/Light_brown_blue22.jpg)\n",
    "\n",
    "# Class Links\n",
    "\n",
    "* [Syllabus](https://docs.google.com/document/d/1KHxT-NkaoXXdSNkK8JlzL2FFgmNoxPQ25fwgtXPnbrY)\n",
    "\n",
    "* [Class Google Spreadsheet](https://docs.google.com/spreadsheets/d/1t481r7HjQBbjNtFOABSOlcckzQhdrh12TCzpSYKurI0/edit?usp=sharing)\n",
    "\n",
    "* [Google Meetup Video Hangout](https://meet.google.com/aym-kxae-bzr)\n",
    "\n",
    "  * For United States Dial +1 \n",
    "    * (669) 220-6376\n",
    "  * Enter this PIN when prompted: \n",
    "    * 891 126 706 #\n",
    "  \n",
    "* [GitHub Organization](https://github.com/pratt-savi-810)\n",
    "\n",
    "* [Slack Organization](https://app.slack.com/client/T01068MA75X/C010J3Q2QET)\n",
    "\n",
    "* [Resources](https://github.com/pratt-savi-810/resources)"
   ]
  },
  {
   "cell_type": "markdown",
   "metadata": {
    "toc": true
   },
   "source": [
    "<h1>Table of Contents<span class=\"tocSkip\"></span></h1>\n",
    "<div class=\"toc\"><ul class=\"toc-item\"><li><span><a href=\"#Lesson-06\" data-toc-modified-id=\"Lesson-06-1\">Lesson 06</a></span></li><li><span><a href=\"#Geoprocessing-with-GeoPandas-(con't),-Geospatial-Data-Models-(Raster),-Geocoding\" data-toc-modified-id=\"Geoprocessing-with-GeoPandas-(con't),-Geospatial-Data-Models-(Raster),-Geocoding-2\">Geoprocessing with GeoPandas (con't), Geospatial Data Models (Raster), Geocoding</a></span></li><li><span><a href=\"#Class-Links\" data-toc-modified-id=\"Class-Links-3\">Class Links</a></span></li><li><span><a href=\"#Learning-Objectives\" data-toc-modified-id=\"Learning-Objectives-4\">Learning Objectives</a></span><ul class=\"toc-item\"><li><ul class=\"toc-item\"><li><span><a href=\"#Fork-and-Clone-this-Lesson-Repo\" data-toc-modified-id=\"Fork-and-Clone-this-Lesson-Repo-4.0.1\">Fork and Clone this Lesson Repo</a></span></li></ul></li></ul></li><li><span><a href=\"#Class-Survey-Results\" data-toc-modified-id=\"Class-Survey-Results-5\">Class Survey Results</a></span></li><li><span><a href=\"#Survey-Result-Takeaways\" data-toc-modified-id=\"Survey-Result-Takeaways-6\">Survey Result Takeaways</a></span><ul class=\"toc-item\"><li><ul class=\"toc-item\"><li><span><a href=\"#Your-turn,-speak-up-now-if-you-have-points-to-add-on-the-Week-2-Check-in\" data-toc-modified-id=\"Your-turn,-speak-up-now-if-you-have-points-to-add-on-the-Week-2-Check-in-6.0.1\">Your turn, speak up now if you have points to add on the Week 2 Check-in</a></span></li></ul></li></ul></li><li><span><a href=\"#Assignment-03-Assigned\" data-toc-modified-id=\"Assignment-03-Assigned-7\">Assignment 03 Assigned</a></span><ul class=\"toc-item\"><li><ul class=\"toc-item\"><li><span><a href=\"#Assignment-03-Instructions-Overview\" data-toc-modified-id=\"Assignment-03-Instructions-Overview-7.0.1\">Assignment 03 Instructions Overview</a></span><ul class=\"toc-item\"><li><span><a href=\"#Assignment-03-Repository\" data-toc-modified-id=\"Assignment-03-Repository-7.0.1.1\">Assignment 03 Repository</a></span></li></ul></li></ul></li></ul></li><li><span><a href=\"#Import-Libraries\" data-toc-modified-id=\"Import-Libraries-8\">Import Libraries</a></span><ul class=\"toc-item\"><li><ul class=\"toc-item\"><li><ul class=\"toc-item\"><li><span><a href=\"#Set-the-.geojson-url-to-a-variable\" data-toc-modified-id=\"Set-the-.geojson-url-to-a-variable-8.0.0.1\">Set the <code>.geojson</code> url to a variable</a></span></li><li><span><a href=\"#Read-.geojson-file-to-GeoDataFrame\" data-toc-modified-id=\"Read-.geojson-file-to-GeoDataFrame-8.0.0.2\">Read <code>.geojson</code> file to GeoDataFrame</a></span></li><li><span><a href=\"#Plot-the-GeoDataFrame\" data-toc-modified-id=\"Plot-the-GeoDataFrame-8.0.0.3\">Plot the GeoDataFrame</a></span></li><li><span><a href=\"#To-change-the-Projection,-we-set-the-argument-inplace=True\" data-toc-modified-id=\"To-change-the-Projection,-we-set-the-argument-inplace=True-8.0.0.4\">To change the Projection, we set the argument <code>inplace=True</code></a></span></li></ul></li></ul></li></ul></li><li><span><a href=\"#Geoprocessing\" data-toc-modified-id=\"Geoprocessing-9\">Geoprocessing</a></span><ul class=\"toc-item\"><li><ul class=\"toc-item\"><li><span><a href=\"#Geoprocessing-Library-Selection\" data-toc-modified-id=\"Geoprocessing-Library-Selection-9.0.1\">Geoprocessing Library Selection</a></span><ul class=\"toc-item\"><li><span><a href=\"#ArcPy\" data-toc-modified-id=\"ArcPy-9.0.1.1\">ArcPy</a></span></li></ul></li></ul></li></ul></li><li><span><a href=\"#Geometric-Manipulations\" data-toc-modified-id=\"Geometric-Manipulations-10\">Geometric Manipulations</a></span><ul class=\"toc-item\"><li><span><a href=\"#Buffer\" data-toc-modified-id=\"Buffer-10.1\">Buffer</a></span></li><li><span><a href=\"#Centroid\" data-toc-modified-id=\"Centroid-10.2\">Centroid</a></span></li><li><span><a href=\"#Convex-Hull\" data-toc-modified-id=\"Convex-Hull-10.3\">Convex Hull</a></span></li><li><span><a href=\"#Envelope\" data-toc-modified-id=\"Envelope-10.4\">Envelope</a></span></li><li><span><a href=\"#Simplify\" data-toc-modified-id=\"Simplify-10.5\">Simplify</a></span></li></ul></li><li><span><a href=\"#Set-Operations-with-Overlay\" data-toc-modified-id=\"Set-Operations-with-Overlay-11\">Set-Operations with Overlay</a></span><ul class=\"toc-item\"><li><ul class=\"toc-item\"><li><ul class=\"toc-item\"><li><span><a href=\"#These-Relationships-follow-the-DE-9IM-model\" data-toc-modified-id=\"These-Relationships-follow-the-DE-9IM-model-11.0.0.1\">These Relationships follow the DE-9IM model</a></span></li></ul></li></ul></li></ul></li><li><span><a href=\"#Union\" data-toc-modified-id=\"Union-12\">Union</a></span><ul class=\"toc-item\"><li><span><a href=\"#Interesect\" data-toc-modified-id=\"Interesect-12.1\">Interesect</a></span></li></ul></li><li><span><a href=\"#Symetrical-Difference\" data-toc-modified-id=\"Symetrical-Difference-13\">Symetrical Difference</a></span></li><li><span><a href=\"#Difference\" data-toc-modified-id=\"Difference-14\">Difference</a></span></li><li><span><a href=\"#Dissolve\" data-toc-modified-id=\"Dissolve-15\">Dissolve</a></span><ul class=\"toc-item\"><li><span><a href=\"#Dissolve-and-Sum\" data-toc-modified-id=\"Dissolve-and-Sum-15.1\">Dissolve and Sum</a></span></li></ul></li><li><span><a href=\"#Merging-Data\" data-toc-modified-id=\"Merging-Data-16\">Merging Data</a></span></li><li><span><a href=\"#Spatial-Joins\" data-toc-modified-id=\"Spatial-Joins-17\">Spatial Joins</a></span><ul class=\"toc-item\"><li><ul class=\"toc-item\"><li><ul class=\"toc-item\"><li><span><a href=\"#Spatial-Join-to-capture-the-Countries-Data,-specifically-GDP,-we-want-to-&quot;JOIN&quot;-Country-GDP-to-the-Cities\" data-toc-modified-id=\"Spatial-Join-to-capture-the-Countries-Data,-specifically-GDP,-we-want-to-&quot;JOIN&quot;-Country-GDP-to-the-Cities-17.0.0.1\">Spatial Join to capture the Countries Data, specifically GDP, we want to \"JOIN\" Country GDP to the Cities</a></span></li><li><span><a href=\"#Let's-look-at-the-Spatially-Joined-Output\" data-toc-modified-id=\"Let's-look-at-the-Spatially-Joined-Output-17.0.0.2\">Let's look at the Spatially Joined Output</a></span></li><li><span><a href=\"#Let's-look-at-the-output-Geometry\" data-toc-modified-id=\"Let's-look-at-the-output-Geometry-17.0.0.3\">Let's look at the output Geometry</a></span></li><li><span><a href=\"#Plotting-our-GDP-values-assigned-to-Cities-as-a-Graduated-Symbol\" data-toc-modified-id=\"Plotting-our-GDP-values-assigned-to-Cities-as-a-Graduated-Symbol-17.0.0.4\">Plotting our GDP values assigned to Cities as a Graduated Symbol</a></span></li></ul></li></ul></li></ul></li><li><span><a href=\"#Raster-Data-Model\" data-toc-modified-id=\"Raster-Data-Model-18\">Raster Data Model</a></span><ul class=\"toc-item\"><li><ul class=\"toc-item\"><li><span><a href=\"#Raster\" data-toc-modified-id=\"Raster-18.0.1\">Raster</a></span><ul class=\"toc-item\"><li><span><a href=\"#Raster-Basics\" data-toc-modified-id=\"Raster-Basics-18.0.1.1\">Raster Basics</a></span></li><li><span><a href=\"#Raster-and-Resolution\" data-toc-modified-id=\"Raster-and-Resolution-18.0.1.2\">Raster and Resolution</a></span></li><li><span><a href=\"#Multispectral-(multiband)-Raster\" data-toc-modified-id=\"Multispectral-(multiband)-Raster-18.0.1.3\">Multispectral (multiband) Raster</a></span></li><li><span><a href=\"#Let's-compare-a-two-maps,-one-derived-by-Vector-Data-and-one-derived-from-Raster-Data\" data-toc-modified-id=\"Let's-compare-a-two-maps,-one-derived-by-Vector-Data-and-one-derived-from-Raster-Data-18.0.1.4\">Let's compare a two maps, one derived by Vector Data and one derived from Raster Data</a></span></li><li><span><a href=\"#Let's-take-a-look-at-some-very-simple-Raster-Data-model\" data-toc-modified-id=\"Let's-take-a-look-at-some-very-simple-Raster-Data-model-18.0.1.5\">Let's take a look at some very simple Raster Data model</a></span></li><li><span><a href=\"#What-is-this-simple_image?\" data-toc-modified-id=\"What-is-this-simple_image?-18.0.1.6\">What is this <code>simple_image</code>?</a></span></li><li><span><a href=\"#What-is-this-simple_image's-datatype?\" data-toc-modified-id=\"What-is-this-simple_image's-datatype?-18.0.1.7\">What is this <code>simple_image</code>'s datatype?</a></span></li><li><span><a href=\"#Can-I-plot-an-.ndarray-like-a-DataFrame?\" data-toc-modified-id=\"Can-I-plot-an-.ndarray-like-a-DataFrame?-18.0.1.8\">Can I plot an <code>.ndarray</code> like a DataFrame?</a></span></li><li><span><a href=\"#Interesting...-Perhaps-I-can-&quot;show-this-array&quot;-somehow!\" data-toc-modified-id=\"Interesting...-Perhaps-I-can-&quot;show-this-array&quot;-somehow!-18.0.1.9\">Interesting... Perhaps I can \"show this array\" somehow!</a></span></li><li><span><a href=\"#Let's-look-at-some-LANDSAT-8-Data\" data-toc-modified-id=\"Let's-look-at-some-LANDSAT-8-Data-18.0.1.10\">Let's look at some LANDSAT 8 Data</a></span></li><li><span><a href=\"#Check-type-of-the-variable-'raster'\" data-toc-modified-id=\"Check-type-of-the-variable-'raster'-18.0.1.11\">Check type of the variable 'raster'</a></span></li><li><span><a href=\"#Show-our-Raster\" data-toc-modified-id=\"Show-our-Raster-18.0.1.12\">Show our Raster</a></span></li><li><span><a href=\"#What-is-the-height-and-width-in-pixels-of-our-Raster?\" data-toc-modified-id=\"What-is-the-height-and-width-in-pixels-of-our-Raster?-18.0.1.13\">What is the height and width in pixels of our Raster?</a></span></li><li><span><a href=\"#What-is-the-raster's-driver-type?\" data-toc-modified-id=\"What-is-the-raster's-driver-type?-18.0.1.14\">What is the raster's driver-type?</a></span></li><li><span><a href=\"#What-is-the-raster's-bounds?\" data-toc-modified-id=\"What-is-the-raster's-bounds?-18.0.1.15\">What is the raster's bounds?</a></span></li><li><span><a href=\"#Metadata-for-the-Raster\" data-toc-modified-id=\"Metadata-for-the-Raster-18.0.1.16\">Metadata for the Raster</a></span></li><li><span><a href=\"#Access-one-of-the-7-Bands\" data-toc-modified-id=\"Access-one-of-the-7-Bands-18.0.1.17\">Access one of the 7 Bands</a></span></li><li><span><a href=\"#View-Band-1-as-a-DataFrame\" data-toc-modified-id=\"View-Band-1-as-a-DataFrame-18.0.1.18\">View Band 1 as a DataFrame</a></span></li><li><span><a href=\"#Read-all-the-Bands-and-Calculate-Statistics\" data-toc-modified-id=\"Read-all-the-Bands-and-Calculate-Statistics-18.0.1.19\">Read all the Bands and Calculate Statistics</a></span></li><li><span><a href=\"#Our-raster-has-multiple-bands,-let's-show-the-Red,-Green,-Blue-Bands\" data-toc-modified-id=\"Our-raster-has-multiple-bands,-let's-show-the-Red,-Green,-Blue-Bands-18.0.1.20\">Our raster has multiple bands, let's show the Red, Green, Blue Bands</a></span></li><li><span><a href=\"#Making-an-RGB-Composite\" data-toc-modified-id=\"Making-an-RGB-Composite-18.0.1.21\">Making an RGB Composite</a></span></li><li><span><a href=\"#Plot-the-RGB-Composite\" data-toc-modified-id=\"Plot-the-RGB-Composite-18.0.1.22\">Plot the RGB Composite</a></span></li></ul></li></ul></li></ul></li><li><span><a href=\"#For-next-time\" data-toc-modified-id=\"For-next-time-19\">For next time</a></span><ul class=\"toc-item\"><li><span><a href=\"#In-Remembrance\" data-toc-modified-id=\"In-Remembrance-19.1\">In Remembrance</a></span></li></ul></li></ul></div>"
   ]
  },
  {
   "cell_type": "markdown",
   "metadata": {},
   "source": [
    "# Learning Objectives\n",
    "\n",
    "* Geoprocessing (Geospatial Analysis) with GeoPandas\n",
    "* Geospatial Data Models (Raster)\n",
    "* Geocoding\n",
    "\n",
    "### Fork and Clone this Lesson Repo\n",
    "\n",
    "https://github.com/pratt-savi-810/pratt-savi-810-2020-03-lesson_06\n"
   ]
  },
  {
   "cell_type": "markdown",
   "metadata": {},
   "source": [
    "# Class Survey Results\n",
    "\n",
    "Plots only, no verbatim student comments.\n",
    "\n",
    "![1](https://raw.githubusercontent.com/pratt-savi-810/images/master/survey_plots_01.png)\n",
    "\n",
    "![2](https://raw.githubusercontent.com/pratt-savi-810/images/master/survey_plots_02.png)\n",
    "     \n",
    "![3](https://raw.githubusercontent.com/pratt-savi-810/images/master/survey_plots_03.png)\n",
    "\n",
    "# Survey Result Takeaways\n",
    "\n",
    "For paragraph responses I've reworded them into my own words.  \n",
    "\n",
    "1. My interpretation of the data, shown above **we're going a little slowly, but not way too slow**. \n",
    "  * I probably won't speed up the live coding but I won't re-explain the same things two or three times as I sometimes do. I'm sure you're all sick of my stupid voice by now :) \n",
    "\n",
    "2. **Assignment Solutions**, let's spend some time reviewing in class. \n",
    "  * Duh, my fault, this was a big complaint I had about the course I just took and here I am not doing it in our class. \n",
    "  \n",
    "3. **Using Python Scripting in a Desktop GIS platform (ArcGIS or QGIS)**. \n",
    "  * This is on the docket for later lessons but point well taken and confirms that this will be useful. \n",
    "    * I'm leaning towards **QGIS** \n",
    "    * and I'll make some videos for **ArcGIS** - as not everyone has this software \n",
    "\n",
    "4. **Geocoding** - assigning latitude longitude to address or placename strings. \n",
    "  * Who doesn't love geocoding... ;) This is coming up soon, maybe next lecture, maybe this lecture. \n",
    "  \n",
    "### Your turn, speak up now if you have points to add on the Week 2 Check-in\n",
    "\n",
    "I'm hoping to have a Week 4 and Week 6 Check-in so you should have other options to for reporting. "
   ]
  },
  {
   "cell_type": "markdown",
   "metadata": {},
   "source": [
    "# Assignment 03 Assigned\n",
    "\n",
    "Fork and Clone: https://github.com/pratt-savi-810/pratt-savi-810-2020-03-assignment_03\n",
    "\n",
    "### Assignment 03 Instructions Overview\n",
    "\n",
    "##### Due Date Monday 2020/04/13\n",
    "Assignment 03 is fairly open-ended and you can do as much or as little as you like. However, you are **required** to do the following; \n",
    "\n",
    "1. **Find** a geospatial data file\n",
    "2. Read it in as a **GeoDataFrame**\n",
    "3. **Perform** some **Exploratory Data Analysis** (EDA) by **creating some plots that describe your data**\n",
    "4. **Plot a map**\n",
    "5. **Highlight any interesting findings**\n",
    "6. **Present** your Exploratory Data Analysis to the class **Monday 2020/04/13**\n",
    "  - Required: Present your Notebook to the class - **5-7 minute presentation in class on Monday 2020/04/13**. \n",
    "  - No need for Powerpoint or Slides, **you'll present your Notebook**. \n",
    "\n",
    "\n",
    "\n",
    "\n",
    "\n",
    "\n",
    "\n",
    "#### Assignment 03 Repository\n",
    "Fork and Clone: https://github.com/pratt-savi-810/pratt-savi-810-2020-03-assignment_03\n"
   ]
  },
  {
   "cell_type": "markdown",
   "metadata": {},
   "source": [
    "# Import Libraries\n",
    "\n",
    "Let's `import` some of the libraries we've already used. "
   ]
  },
  {
   "cell_type": "code",
   "execution_count": 1,
   "metadata": {},
   "outputs": [],
   "source": [
    "from IPython.display import IFrame\n",
    "import pandas as pd\n",
    "import geopandas as gpd\n",
    "import matplotlib.pyplot as plt\n",
    "import numpy as np\n",
    "import missingno as msno\n",
    "import seaborn as sns"
   ]
  },
  {
   "cell_type": "code",
   "execution_count": 2,
   "metadata": {},
   "outputs": [],
   "source": [
    "%matplotlib inline"
   ]
  },
  {
   "cell_type": "markdown",
   "metadata": {},
   "source": [
    "#### Set the `.geojson` url to a variable"
   ]
  },
  {
   "cell_type": "code",
   "execution_count": 3,
   "metadata": {},
   "outputs": [],
   "source": [
    "boro_geojson_link = 'https://data.cityofnewyork.us/api/geospatial/tqmj-j8zm?method=export&format=GeoJSON'"
   ]
  },
  {
   "cell_type": "markdown",
   "metadata": {},
   "source": [
    "#### Read `.geojson` file to GeoDataFrame\n"
   ]
  },
  {
   "cell_type": "code",
   "execution_count": 4,
   "metadata": {},
   "outputs": [],
   "source": [
    "gdf = gpd.read_file(boro_geojson_link)"
   ]
  },
  {
   "cell_type": "markdown",
   "metadata": {},
   "source": [
    "#### Plot the GeoDataFrame"
   ]
  },
  {
   "cell_type": "code",
   "execution_count": 1,
   "metadata": {},
   "outputs": [],
   "source": [
    "\n",
    "# nyc boros"
   ]
  },
  {
   "cell_type": "markdown",
   "metadata": {},
   "source": [
    "#### To change the Projection, we set the argument `inplace=True`"
   ]
  },
  {
   "cell_type": "code",
   "execution_count": 2,
   "metadata": {},
   "outputs": [],
   "source": [
    "\n",
    "# changed the state of the projection systems"
   ]
  },
  {
   "cell_type": "markdown",
   "metadata": {},
   "source": [
    "# Geoprocessing\n",
    "\n",
    "Very broadly, **Geoprocessing** is any operation involving geospatial data or methods. The Geographic Information Systems (GIS) software company Esri refers to it as \"[Computing with geographic data.](http://webhelp.esri.com/arcgisdesktop/9.3/index.cfm?TopicName=Comparing_Geoprocessing_and_Spatial_Analysis)\" It is commonly misused interchangeably with the term [Spatial Analysis](http://webhelp.esri.com/arcgisdesktop/9.3/index.cfm?TopicName=Comparing_Geoprocessing_and_Spatial_Analysi). However, Spatial Analysis includes the interpretation of the results of Geoprocessing. \n",
    "\n",
    "Professor Jochen Albrecht defines Geoprocessing as;\n",
    "> _...any GIS operation used to manipulate data. A typical geoprocessing operation takes an input dataset, performs an operation on that dataset, and returns the result of the operation as an output dataset, also referred to as derived data. Common geoprocessing operations are geographic feature overlay, feature selection and analysis, topology processing, and data conversion. Geoprocessing allows you to define, manage, and analyze geographic information used to make decisions._ [Jochen Albrecht](http://www.geography.hunter.cuny.edu/~jochen/GTECH361/lectures/lecture12/concepts/01%20What%20is%20geoprocessing.htm)\n",
    "\n",
    "### Geoprocessing Library Selection\n",
    "\n",
    "There are several Geoprocessing libraries and technologies. A few notable open source ones are;\n",
    "\n",
    "* [PostGIS](https://postgis.net/) - Spatially Enabled PostgreSQL \n",
    "* [GeoPandas](https://geopandas.org/) - Pandas Extended with [Shapely](https://shapely.readthedocs.io/en/latest/)\n",
    "* [Arcpy](https://pro.arcgis.com/en/pro-app/arcpy/get-started/what-is-arcpy-.htm) - Esri's Python site package\n",
    "* [PyQGIS](https://docs.qgis.org/testing/en/docs/pyqgis_developer_cookbook/) - [QGIS](https://www.qgis.org/en/site/)'s Python Package\n",
    "\n",
    "#### ArcPy\n",
    "\n",
    "> ArcPy is a Python site package that provides a useful and productive way to perform geographic data analysis, data conversion, data management, and map automation with Python. [Esri](https://pro.arcgis.com/en/pro-app/arcpy/get-started/what-is-arcpy-.htm)\n",
    "\n",
    "Arcpy is available in both free trial versions as well as paid home and commercial licenses on Windows or virtual Windows operating systems. The [ArcGIS API for Python](https://www.esri.com/en-us/arcgis/trial), using ArcGIS Online is also available for multiple platforms. However, for **fast** Geoprocessing, Arcpy made the most sense. Especially when, in our group team Delta, team members were waiting for the output of the Geoprocessing steps. Rather than be a bottleneck extending GeoPandas or setting up (and also extending) PostGIS, Arcpy helped enable a quicker turnaround of Geoprocessing output."
   ]
  },
  {
   "cell_type": "markdown",
   "metadata": {},
   "source": [
    "# Geometric Manipulations\n",
    "\n",
    "## Buffer\n",
    "\n",
    "> Returns a GeoSeries of geometries representing all points within a given distance of each geometric object. Source: https://geopandas.org/geometric_manipulations.html"
   ]
  },
  {
   "cell_type": "code",
   "execution_count": 4,
   "metadata": {},
   "outputs": [],
   "source": [
    "fig, ax = plt.subplots(figsize=(6, 6))\n",
    "\n",
    "gdf.plot(ax=ax)\n",
    "\n",
    "gdf.####### YOUR CODE HERE.plot(\n",
    "    ax=ax,\n",
    "    facecolor=\"none\",\n",
    "    alpha=0.7,\n",
    "    edgecolor='red', \n",
    "    linewidth=3,\n",
    ")\n",
    "\n",
    "plt.title('Buffer');"
   ]
  },
  {
   "cell_type": "markdown",
   "metadata": {},
   "source": [
    "## Centroid\n",
    "\n",
    "> Returns a GeoSeries of points for each geometric centroid. Source: https://geopandas.org/geometric_manipulations.html#GeoSeries.boundary\n",
    "\n",
    "Wikipedia:\n",
    "> In mathematics and physics, the centroid or geometric center of a plane figure is the arithmetic mean position of all the points in the figure. Informally, it is the point at which a cutout of the shape could be perfectly balanced on the tip of a pin.[1]\n",
    "\n",
    "> The definition extends to any object in n-dimensional space: its centroid is the mean position of all the points in all of the coordinate directions.[2] Source: https://en.wikipedia.org/wiki/Centroid\n",
    "\n",
    "![centroid](https://upload.wikimedia.org/wikipedia/commons/thumb/5/5e/Triangle.Centroid.svg/440px-Triangle.Centroid.svg.png)\n",
    "_Source: [https://en.wikipedia.org/wiki/Centroid](https://en.wikipedia.org/wiki/Centroid)_"
   ]
  },
  {
   "cell_type": "code",
   "execution_count": 7,
   "metadata": {},
   "outputs": [],
   "source": [
    "fig, ax = plt.subplots(figsize=(7, 7))\n",
    "\n",
    "gdf.plot(ax=ax)\n",
    "\n",
    "gdf.#### YOUR CODE HERE.plot(\n",
    "    ax=ax,\n",
    "    facecolor=\"red\",\n",
    ")\n",
    "\n",
    "plt.title('Centroid');"
   ]
  },
  {
   "cell_type": "markdown",
   "metadata": {},
   "source": [
    "## Convex Hull\n",
    "\n",
    "> Returns a GeoSeries of geometries representing the smallest convex Polygon containing all the points in each object unless the number of points in the object is less than three. For two points, the convex hull collapses to a LineString; for 1, a Point. Source: https://geopandas.org/geometric_manipulations.html#GeoSeries.boundary\n",
    "\n",
    "Wikipedia:\n",
    "\n",
    "> In geometry, the convex hull or convex envelope or convex closure of a shape is the smallest convex set that contains it. For a bounded subset of the plane, the convex hull may be visualized as the shape enclosed by a rubber band stretched around the subset. Source: https://en.wikipedia.org/wiki/Convex_hull"
   ]
  },
  {
   "cell_type": "code",
   "execution_count": 9,
   "metadata": {
    "scrolled": false
   },
   "outputs": [],
   "source": [
    "fig, ax = plt.subplots(figsize=(7, 7))\n",
    "\n",
    "gdf.plot(\n",
    "    ax=ax, \n",
    ")\n",
    "\n",
    "# your code here\n",
    "# your code here\n",
    "# your code here\n",
    "\n",
    "plt.title('Convex Hull');"
   ]
  },
  {
   "cell_type": "markdown",
   "metadata": {},
   "source": [
    "## Envelope\n",
    "\n",
    "> Returns a GeoSeries of geometries representing the point or smallest rectangular polygon (with sides parallel to the coordinate axes) that contains each object. Source: https://geopandas.org/geometric_manipulations.html#GeoSeries.boundary"
   ]
  },
  {
   "cell_type": "code",
   "execution_count": 10,
   "metadata": {},
   "outputs": [],
   "source": [
    "fig, ax = plt.subplots(figsize=(7, 7))\n",
    "\n",
    "gdf.plot(\n",
    "    ax=ax, \n",
    ")\n",
    "\n",
    "# your code here\n",
    "# your code here\n",
    "# your code here\n",
    "\n",
    "plt.title('Envelope');"
   ]
  },
  {
   "cell_type": "markdown",
   "metadata": {},
   "source": [
    "## Simplify\n",
    "\n",
    "> Returns a GeoSeries containing a simplified representation of each object. Source: https://geopandas.org/geometric_manipulations.html#GeoSeries.boundary"
   ]
  },
  {
   "cell_type": "code",
   "execution_count": 11,
   "metadata": {},
   "outputs": [],
   "source": [
    "fig, ax = plt.subplots(figsize=(7, 7))\n",
    "\n",
    "gdf.plot(\n",
    "    ax=ax, \n",
    ")\n",
    "\n",
    "# your code here\n",
    "# your code here\n",
    "# your code here\n",
    "\n",
    "plt.title('Simplify');"
   ]
  },
  {
   "cell_type": "markdown",
   "metadata": {},
   "source": [
    "# Set-Operations with Overlay\n",
    "\n",
    "> When working with multiple spatial datasets – especially multiple polygon or line datasets – users often wish to create new shapes based on places where those datasets overlap (or don’t overlap). These manipulations are often referred using the language of sets – intersections, unions, and differences. These types of operations are made available in the geopandas library through the overlay function.\n",
    "\n",
    "> The basic idea is demonstrated by the graphic below but keep in mind that overlays operate at the DataFrame level, not on individual geometries, and the properties from both are retained. In effect, for every shape in the first GeoDataFrame, this operation is executed against every other shape in the other GeoDataFrame. Source: https://geopandas.org/set_operations.html\n",
    "\n",
    "![overlay](https://geopandas.org/_images/overlay_operations.png)\n",
    "_Source: [https://geopandas.org/set_operations.html](https://geopandas.org/set_operations.html)_\n",
    "\n",
    "#### These Relationships follow the DE-9IM model\n",
    "\n",
    "> The Dimensionally Extended nine-Intersection Model (DE-9IM) is a topological model and a standard used to describe the spatial relations of two regions (two geometries in two-dimensions, R2), in geometry, point-set topology, geospatial topology, and fields related to computer spatial analysis. The spatial relations expressed by the model are invariant to rotation, translation and scaling transformations. Source: https://en.wikipedia.org/wiki/DE-9IM\n"
   ]
  },
  {
   "cell_type": "code",
   "execution_count": 12,
   "metadata": {},
   "outputs": [
    {
     "data": {
      "text/html": [
       "\n",
       "        <iframe\n",
       "            width=\"700\"\n",
       "            height=\"400\"\n",
       "            src=\"https://en.wikipedia.org/wiki/DE-9IM\"\n",
       "            frameborder=\"0\"\n",
       "            allowfullscreen\n",
       "        ></iframe>\n",
       "        "
      ],
      "text/plain": [
       "<IPython.lib.display.IFrame at 0x7fcdb8e32390>"
      ]
     },
     "execution_count": 12,
     "metadata": {},
     "output_type": "execute_result"
    }
   ],
   "source": [
    "IFrame(src='https://en.wikipedia.org/wiki/DE-9IM', width=700, height=400)"
   ]
  },
  {
   "cell_type": "code",
   "execution_count": 13,
   "metadata": {},
   "outputs": [],
   "source": [
    "import geopandas\n",
    "from shapely.geometry import Polygon\n",
    "\n",
    "polys1 = geopandas.GeoSeries([\n",
    "    Polygon([(0,0), (2,0), (2,2), (0,2)]),\n",
    "    Polygon([(2,2), (4,2), (4,4), (2,4)])\n",
    "])\n",
    "\n",
    "polys2 = geopandas.GeoSeries([\n",
    "    Polygon([(1,1), (3,1), (3,3), (1,3)]),\n",
    "    Polygon([(3,3), (5,3), (5,5), (3,5)])\n",
    "])\n",
    "\n",
    "df1 = geopandas.GeoDataFrame({'geometry': polys1, 'df1':[1,2]})\n",
    "\n",
    "df2 = geopandas.GeoDataFrame({'geometry': polys2, 'df2':[1,2]})"
   ]
  },
  {
   "cell_type": "code",
   "execution_count": null,
   "metadata": {},
   "outputs": [],
   "source": []
  },
  {
   "cell_type": "code",
   "execution_count": null,
   "metadata": {},
   "outputs": [],
   "source": []
  },
  {
   "cell_type": "code",
   "execution_count": 12,
   "metadata": {},
   "outputs": [],
   "source": [
    "ax = df1.plot(color='red', figsize=(7, 7));\n",
    "\n",
    "df2.plot(ax=ax, color='green', alpha=0.5);"
   ]
  },
  {
   "cell_type": "markdown",
   "metadata": {},
   "source": [
    "# Union\n",
    "\n",
    "> The output feature class will contain polygons representing the geometric union of all the inputs as well as all the fields from all the input feature classes. See below for examples of how attribute values are assigned to the output features. Source: https://desktop.arcgis.com/en/arcmap/10.3/tools/analysis-toolbox/how-union-analysis-works.htm\n",
    "\n",
    "![esri_union](https://desktop.arcgis.com/en/arcmap/10.3/tools/analysis-toolbox/GUID-F81C8E85-1DA1-4857-B872-6CE30DDE3984-web.png)"
   ]
  },
  {
   "cell_type": "code",
   "execution_count": 17,
   "metadata": {},
   "outputs": [],
   "source": []
  },
  {
   "cell_type": "code",
   "execution_count": null,
   "metadata": {},
   "outputs": [],
   "source": []
  },
  {
   "cell_type": "code",
   "execution_count": 13,
   "metadata": {},
   "outputs": [],
   "source": [
    "ax = res_union.plot(alpha=0.5, cmap='tab10', figsize=(7, 7))\n",
    "\n",
    "df1.plot(ax=ax, facecolor='none', edgecolor='k');\n",
    "df2.plot(ax=ax, facecolor='none', edgecolor='k');"
   ]
  },
  {
   "cell_type": "markdown",
   "metadata": {},
   "source": [
    "## Interesect\n",
    "\n",
    "> The Intersect tool calculates the geometric intersection of any number of feature classes and feature layers. The features, or portion of features, that are common to all inputs (that is, they intersect) will be written to the output feature class. Source: https://desktop.arcgis.com/en/arcmap/10.3/tools/analysis-toolbox/how-intersect-analysis-works.htm\n",
    "\n",
    "Diagrams below from: https://desktop.arcgis.com/en/arcmap/10.3/tools/analysis-toolbox/how-intersect-analysis-works.htm\n",
    "\n",
    "##### Polygon inputs and polygon output\n",
    "![esri_intersect_poly_poly](https://desktop.arcgis.com/en/arcmap/10.3/tools/analysis-toolbox/GUID-706759C5-5FA8-4130-B703-73217BD2752C-web.gif)\n",
    "\n",
    "##### Polygon inputs and line output\n",
    "![esri_intersect_poly_line](https://desktop.arcgis.com/en/arcmap/10.3/tools/analysis-toolbox/GUID-39DEABA3-71D5-48BD-8E43-861DE716AE13-web.gif)\n",
    "\n",
    "##### Polygon inputs and point output\n",
    "![esri_intersect_poly_point](https://desktop.arcgis.com/en/arcmap/10.3/tools/analysis-toolbox/GUID-8F0C370A-8567-4333-A5A9-1A2D2FEBBF2F-web.gif)\n",
    "\n",
    "##### Line inputs\n",
    "![esri_intersect_line_line](https://desktop.arcgis.com/en/arcmap/10.3/tools/analysis-toolbox/GUID-3497102D-B719-48B1-80AA-8A3CB9099272-web.gif)\n",
    "\n",
    "##### Line inputs and point output\n",
    "![esri_intersect_line_point](https://desktop.arcgis.com/en/arcmap/10.3/tools/analysis-toolbox/GUID-532D07A6-3CEB-4802-A6BE-444656EFC1D1-web.gif)\n",
    "\n",
    "##### Point inputs\n",
    "![esri_intersect_point_point](https://desktop.arcgis.com/en/arcmap/10.3/tools/analysis-toolbox/GUID-6198BED6-DF77-4F42-84DB-65C75D154DEC-web.gif)\n",
    "\n",
    "Diagrams above from: https://desktop.arcgis.com/en/arcmap/10.3/tools/analysis-toolbox/how-intersect-analysis-works.htm\n"
   ]
  },
  {
   "cell_type": "code",
   "execution_count": 20,
   "metadata": {},
   "outputs": [],
   "source": []
  },
  {
   "cell_type": "code",
   "execution_count": null,
   "metadata": {},
   "outputs": [],
   "source": []
  },
  {
   "cell_type": "code",
   "execution_count": 14,
   "metadata": {},
   "outputs": [],
   "source": [
    "ax = res_intersection.plot(cmap='tab10', figsize=(7, 7))\n",
    "\n",
    "df1.plot(ax=ax, facecolor='none', edgecolor='k');\n",
    "\n",
    "df2.plot(ax=ax, facecolor='none', edgecolor='k');"
   ]
  },
  {
   "cell_type": "markdown",
   "metadata": {},
   "source": [
    "# Symetrical Difference\n",
    "\n",
    "> Features or portions of features in the input and update features that do not overlap will be written to the output feature class. Source: https://desktop.arcgis.com/en/arcmap/10.3/tools/analysis-toolbox/symmetrical-difference.htm\n",
    "\n",
    "![symetrical_difference](https://desktop.arcgis.com/en/arcmap/10.3/tools/analysis-toolbox/GUID-71AC8941-636E-48AD-9C3F-942D4F8F520B-web.gif)"
   ]
  },
  {
   "cell_type": "code",
   "execution_count": null,
   "metadata": {},
   "outputs": [],
   "source": []
  },
  {
   "cell_type": "code",
   "execution_count": null,
   "metadata": {},
   "outputs": [],
   "source": []
  },
  {
   "cell_type": "code",
   "execution_count": 15,
   "metadata": {},
   "outputs": [],
   "source": [
    "ax = res_symdiff.plot(cmap='tab10', figsize=(7, 7))\n",
    "\n",
    "df1.plot(ax=ax, facecolor='none', edgecolor='k');\n",
    "\n",
    "df2.plot(ax=ax, facecolor='none', edgecolor='k');"
   ]
  },
  {
   "cell_type": "markdown",
   "metadata": {},
   "source": [
    "# Difference\n",
    "\n",
    "Seems most similar to Esri's **Erase** overlay function. \n",
    "\n",
    "> Creates a feature class by overlaying the Input Features with the polygons of the Erase Features. Only those portions of the input features falling outside the erase features outside boundaries are copied to the output feature class. Source: https://desktop.arcgis.com/en/arcmap/10.3/tools/analysis-toolbox/erase.htm\n",
    "\n",
    "![difference_erase](https://desktop.arcgis.com/en/arcmap/10.3/tools/analysis-toolbox/GUID-40F0B845-07D7-4269-8E32-A5977821ADA2-web.gif)"
   ]
  },
  {
   "cell_type": "code",
   "execution_count": null,
   "metadata": {},
   "outputs": [],
   "source": []
  },
  {
   "cell_type": "code",
   "execution_count": null,
   "metadata": {},
   "outputs": [],
   "source": []
  },
  {
   "cell_type": "code",
   "execution_count": 16,
   "metadata": {},
   "outputs": [],
   "source": [
    "ax = res_difference.plot(cmap='tab10', figsize=(7, 7))\n",
    "\n",
    "df1.plot(ax=ax, facecolor='none', edgecolor='k');\n",
    "\n",
    "df2.plot(ax=ax, facecolor='none', edgecolor='k');"
   ]
  },
  {
   "cell_type": "markdown",
   "metadata": {},
   "source": [
    "# Dissolve \n",
    "https://geopandas.org/aggregation_with_dissolve.html"
   ]
  },
  {
   "cell_type": "code",
   "execution_count": 29,
   "metadata": {},
   "outputs": [],
   "source": [
    "countries = geopandas.read_file(geopandas.datasets.get_path('naturalearth_lowres'))"
   ]
  },
  {
   "cell_type": "code",
   "execution_count": 30,
   "metadata": {},
   "outputs": [
    {
     "data": {
      "image/png": "[encoded data removed]",
      "text/plain": [
       "<Figure size 720x720 with 1 Axes>"
      ]
     },
     "metadata": {
      "needs_background": "light"
     },
     "output_type": "display_data"
    }
   ],
   "source": [
    "countries.plot(cmap='tab10', figsize=(10, 10));"
   ]
  },
  {
   "cell_type": "code",
   "execution_count": 31,
   "metadata": {},
   "outputs": [],
   "source": [
    "countries = countries[['continent', 'geometry']]"
   ]
  },
  {
   "cell_type": "code",
   "execution_count": 32,
   "metadata": {},
   "outputs": [],
   "source": []
  },
  {
   "cell_type": "code",
   "execution_count": null,
   "metadata": {},
   "outputs": [],
   "source": []
  },
  {
   "cell_type": "markdown",
   "metadata": {},
   "source": [
    "## Dissolve and Sum"
   ]
  },
  {
   "cell_type": "code",
   "execution_count": 34,
   "metadata": {},
   "outputs": [],
   "source": [
    "countries = geopandas.read_file(geopandas.datasets.get_path('naturalearth_lowres'))\n",
    "countries = countries[['continent', 'geometry', 'pop_est']]"
   ]
  },
  {
   "cell_type": "code",
   "execution_count": 35,
   "metadata": {},
   "outputs": [],
   "source": []
  },
  {
   "cell_type": "code",
   "execution_count": 17,
   "metadata": {},
   "outputs": [],
   "source": [
    "continents.plot(\n",
    "    column = 'pop_est', \n",
    "    scheme='quantiles', \n",
    "    cmap='YlOrRd', \n",
    "    figsize=(10, 10),\n",
    ");"
   ]
  },
  {
   "cell_type": "code",
   "execution_count": 37,
   "metadata": {},
   "outputs": [
    {
     "data": {
      "text/html": [
       "<div>\n",
       "<style scoped>\n",
       "    .dataframe tbody tr th:only-of-type {\n",
       "        vertical-align: middle;\n",
       "    }\n",
       "\n",
       "    .dataframe tbody tr th {\n",
       "        vertical-align: top;\n",
       "    }\n",
       "\n",
       "    .dataframe thead th {\n",
       "        text-align: right;\n",
       "    }\n",
       "</style>\n",
       "<table border=\"1\" class=\"dataframe\">\n",
       "  <thead>\n",
       "    <tr style=\"text-align: right;\">\n",
       "      <th></th>\n",
       "      <th>geometry</th>\n",
       "      <th>pop_est</th>\n",
       "    </tr>\n",
       "    <tr>\n",
       "      <th>continent</th>\n",
       "      <th></th>\n",
       "      <th></th>\n",
       "    </tr>\n",
       "  </thead>\n",
       "  <tbody>\n",
       "    <tr>\n",
       "      <td>Africa</td>\n",
       "      <td>MULTIPOLYGON (((49.544 -12.470, 49.809 -12.895...</td>\n",
       "      <td>1219176238</td>\n",
       "    </tr>\n",
       "    <tr>\n",
       "      <td>Antarctica</td>\n",
       "      <td>MULTIPOLYGON (((-163.713 -78.596, -163.713 -78...</td>\n",
       "      <td>4050</td>\n",
       "    </tr>\n",
       "    <tr>\n",
       "      <td>Asia</td>\n",
       "      <td>MULTIPOLYGON (((120.295 -10.259, 118.968 -9.55...</td>\n",
       "      <td>4389144868</td>\n",
       "    </tr>\n",
       "    <tr>\n",
       "      <td>Europe</td>\n",
       "      <td>MULTIPOLYGON (((-51.658 4.156, -52.249 3.241, ...</td>\n",
       "      <td>746398461</td>\n",
       "    </tr>\n",
       "    <tr>\n",
       "      <td>North America</td>\n",
       "      <td>MULTIPOLYGON (((-61.680 10.760, -61.105 10.890...</td>\n",
       "      <td>573042112</td>\n",
       "    </tr>\n",
       "  </tbody>\n",
       "</table>\n",
       "</div>"
      ],
      "text/plain": [
       "                                                        geometry     pop_est\n",
       "continent                                                                   \n",
       "Africa         MULTIPOLYGON (((49.544 -12.470, 49.809 -12.895...  1219176238\n",
       "Antarctica     MULTIPOLYGON (((-163.713 -78.596, -163.713 -78...        4050\n",
       "Asia           MULTIPOLYGON (((120.295 -10.259, 118.968 -9.55...  4389144868\n",
       "Europe         MULTIPOLYGON (((-51.658 4.156, -52.249 3.241, ...   746398461\n",
       "North America  MULTIPOLYGON (((-61.680 10.760, -61.105 10.890...   573042112"
      ]
     },
     "execution_count": 37,
     "metadata": {},
     "output_type": "execute_result"
    }
   ],
   "source": [
    "continents.head()"
   ]
  },
  {
   "cell_type": "markdown",
   "metadata": {},
   "source": [
    "# Merging Data"
   ]
  },
  {
   "cell_type": "markdown",
   "metadata": {},
   "source": [
    "# Spatial Joins \n",
    "\n",
    "https://geopandas.org/mergingdata.html"
   ]
  },
  {
   "cell_type": "code",
   "execution_count": 38,
   "metadata": {},
   "outputs": [],
   "source": [
    "world = geopandas.read_file(geopandas.datasets.get_path('naturalearth_lowres'))\n",
    "cities = geopandas.read_file(geopandas.datasets.get_path('naturalearth_cities'))\n",
    "\n",
    "countries = world[['geometry', 'name', 'pop_est', 'gdp_md_est']]\n",
    "countries = countries.rename(columns={'name':'country'})"
   ]
  },
  {
   "cell_type": "code",
   "execution_count": 18,
   "metadata": {},
   "outputs": [],
   "source": [
    "# plot cities"
   ]
  },
  {
   "cell_type": "code",
   "execution_count": 19,
   "metadata": {},
   "outputs": [],
   "source": [
    "# plot countries\n"
   ]
  },
  {
   "cell_type": "code",
   "execution_count": 20,
   "metadata": {},
   "outputs": [],
   "source": [
    "# countries head"
   ]
  },
  {
   "cell_type": "code",
   "execution_count": 21,
   "metadata": {},
   "outputs": [],
   "source": [
    "# cities head"
   ]
  },
  {
   "cell_type": "markdown",
   "metadata": {},
   "source": [
    "#### Spatial Join to capture the Countries Data, specifically GDP, we want to \"JOIN\" Country GDP to the Cities"
   ]
  },
  {
   "cell_type": "code",
   "execution_count": 43,
   "metadata": {},
   "outputs": [],
   "source": []
  },
  {
   "cell_type": "markdown",
   "metadata": {},
   "source": [
    "#### Let's look at the Spatially Joined Output"
   ]
  },
  {
   "cell_type": "code",
   "execution_count": null,
   "metadata": {},
   "outputs": [],
   "source": []
  },
  {
   "cell_type": "markdown",
   "metadata": {},
   "source": [
    "#### Let's look at the output Geometry"
   ]
  },
  {
   "cell_type": "code",
   "execution_count": null,
   "metadata": {},
   "outputs": [],
   "source": []
  },
  {
   "cell_type": "markdown",
   "metadata": {},
   "source": [
    "#### Plotting our GDP values assigned to Cities as a Graduated Symbol"
   ]
  },
  {
   "cell_type": "code",
   "execution_count": 46,
   "metadata": {},
   "outputs": [
    {
     "data": {
      "image/png": "[encoded data removed]",
      "text/plain": [
       "<Figure size 1296x864 with 1 Axes>"
      ]
     },
     "metadata": {
      "needs_background": "light"
     },
     "output_type": "display_data"
    }
   ],
   "source": [
    "fig, ax = plt.subplots(figsize=(18, 12))\n",
    "\n",
    "countries.plot(ax=ax, facecolor='gray')\n",
    "\n",
    "cities_with_country.plot(\n",
    "    ax=ax,\n",
    "    column='gdp_md_est', \n",
    "    scheme='quantiles',\n",
    "    legend=True,\n",
    "    cmap='Greens',\n",
    "    edgecolor='white',\n",
    "    alpha=0.6,\n",
    "    markersize=cities_with_country['gdp_md_est']/5000.,\n",
    "    legend_kwds={\n",
    "        \"title\": 'GDP',\n",
    "        \"loc\": 4\n",
    "    }\n",
    ")\n",
    "\n",
    "plt.title('Gross Domestic Product (GDP) - 2016', {'fontsize': 27});\n",
    "plt.savefig('img/gdp.png')"
   ]
  },
  {
   "cell_type": "markdown",
   "metadata": {},
   "source": [
    "# Raster Data Model\n",
    "\n",
    "### Raster\n",
    "\n",
    "> [Rasters] are frequently represented as a continuous grid of square cells, each containing a value indicating the (estimated) average height or strength of the field in that cell. In most of the literature and within software packages the points/ lines/ areas model is described as vector data, whilst the grid model is described as raster (or image) data. Source: https://www.spatialanalysisonline.com/HTML/index.html\n",
    "\n",
    "\n",
    "> #### Raster Basics\n",
    "> A raster is a rectangular grid of pixels with values that can continuous (e.g. elevation) or categorical (e.g. land use). This data structure is very common - jpg images on the web, photos from your digital camera, and the jupyterhub icon are all rasters. Source: https://github.com/geohackweek/raster-2019/blob/master/notebooks/0-introduction.ipynb\n",
    "\n",
    "> Common properties of any raster:\n",
    "number of rows and columns (sometimes referred to as lines and samples)\n",
    "data type (dtype, or bit depth) - e.g., 8-bit (2^8 possible values, 0-255)\n",
    "some kind of resolution information, often dots per inch (dpi) with raster graphics\n",
    "A geospatial raster is only different from a digital photo in that it is accompanied by metadata that connects the grid to a particular location. Source: https://github.com/geohackweek/raster-2019/blob/master/notebooks/0-introduction.ipynb\n",
    "\n",
    "> ![raster_data_model](https://github.com/geohackweek/raster-2019/raw/9fb57bde646eb98b881e0429e6a70ff4f8d077e1/assets/raster_concept.png)\n",
    "_Source: National Ecological Observatory Network (NEON) via: [https://github.com/geohackweek/raster-2019/blob/master/notebooks/0-introduction.ipynb](https://github.com/geohackweek/raster-2019/blob/master/notebooks/0-introduction.ipynb)_\n",
    "\n",
    "\n",
    "> ##### Examples of categorical rasters\n",
    "Some rasters contain categorical data where each pixel represents a discrete class such as a landcover type (e.g., \"coniferous forest\" or \"grassland\") rather than a continuous value such as elevation or temperature. Some examples of classified maps include:\n",
    "* Landcover / land-use maps.\n",
    "* Snowcover masks (binary snow or no snow)\n",
    "\n",
    "> The following map shows elevation data for the NEON Harvard Forest field site. In this map, the elevation data (a continuous variable) has been divided up into categories to yield a categorical raster.  Source: https://github.com/geohackweek/raster-2019/blob/master/notebooks/0-introduction.ipynb\n",
    "\n",
    "> ![category_raster](https://datacarpentry.org/organization-geospatial/fig/USA_landcover_classification.png)\n",
    "_Source: Homer, C.G., et al., 2015, Completion of the 2011 National Land Cover Database for the conterminous United States-Representing a decade of land cover change information. Photogrammetric Engineering and Remote Sensing, v. 81, no. 5, p. 345-354) via [https://datacarpentry.org/organization-geospatial/01-intro-raster-data/index.html](https://datacarpentry.org/organization-geospatial/01-intro-raster-data/index.html)_\n",
    "\n",
    "\n",
    "\n",
    "#### Raster and Resolution \n",
    "\n",
    ">  resolution of a raster represents the area on the ground that each pixel of the raster covers. The image below illustrates the effect of changes in resolution. Source: https://datacarpentry.org/organization-geospatial/01-intro-raster-data/index.html\n",
    "\n",
    "> ![raster_resolution](https://datacarpentry.org/organization-geospatial/fig/dc-spatial-raster/raster_resolution.png)\n",
    "_Source: National Ecological Observatory Network (NEON) via [https://datacarpentry.org/organization-geospatial/01-intro-raster-data/index.html](https://datacarpentry.org/organization-geospatial/01-intro-raster-data/index.html)_\n",
    "\n",
    "#### Multispectral (multiband) Raster\n",
    "\n",
    "> A raster can contain one or more bands. One type of multi-band raster dataset that is familiar to many of us is a color image. A basic color image consists of three bands: red, green, and blue. Each band represents light reflected from the red, green or blue portions of the electromagnetic spectrum. The pixel brightness for each band, when composited creates the colors that we see in an image. Source: https://datacarpentry.org/organization-geospatial/01-intro-raster-data/index.html\n",
    "\n",
    "> ![multispectral_raster](https://datacarpentry.org/organization-geospatial/fig/dc-spatial-raster/RGBSTack_1.jpg)\n",
    "_Source: National Ecological Observatory Network (NEON) via [https://datacarpentry.org/organization-geospatial/01-intro-raster-data/index.html](https://datacarpentry.org/organization-geospatial/01-intro-raster-data/index.html)_\n"
   ]
  },
  {
   "cell_type": "markdown",
   "metadata": {},
   "source": [
    "#### Let's compare a two maps, one derived by Vector Data and one derived from Raster Data"
   ]
  },
  {
   "cell_type": "code",
   "execution_count": 47,
   "metadata": {},
   "outputs": [
    {
     "data": {
      "application/vnd.jupyter.widget-view+json": {
       "model_id": "76bfc333017e42eb9589a544148de589",
       "version_major": 2,
       "version_minor": 0
      },
      "text/plain": [
       "Map(center=[-11.64, 43.349999999999994], controls=(ZoomControl(options=['position', 'zoom_in_text', 'zoom_in_t…"
      ]
     },
     "metadata": {},
     "output_type": "display_data"
    }
   ],
   "source": [
    "# source: https://github.com/geohackweek/raster-2019/blob/master/notebooks/3-visualization-and-modis.ipynb\n",
    "import ipyleaflet\n",
    "from ipyleaflet import Map, Rectangle, basemaps, basemap_to_tiles, TileLayer, SplitMapControl, Polygon\n",
    "import ipywidgets\n",
    "import datetime\n",
    "import re\n",
    "\n",
    "bbox = [43.16, -11.32, 43.54, -11.96]\n",
    "west, north, east, south = bbox\n",
    "bbox_ctr = [0.5*(north+south), 0.5*(west+east)]\n",
    "\n",
    "m = Map(center=bbox_ctr, zoom=5)# MODIS great for large areas (onl)\n",
    "\n",
    "right_layer = basemap_to_tiles(basemaps.NASAGIBS.ModisTerraTrueColorCR, \"2020-04-01\")\n",
    "left_layer = TileLayer()\n",
    "control = SplitMapControl(left_layer=left_layer, right_layer=right_layer)\n",
    "m.add_control(control)\n",
    "\n",
    "m"
   ]
  },
  {
   "cell_type": "markdown",
   "metadata": {},
   "source": [
    "#### Let's take a look at some very simple Raster Data model"
   ]
  },
  {
   "cell_type": "code",
   "execution_count": 48,
   "metadata": {},
   "outputs": [],
   "source": [
    "pd.set_option('display.max_rows', 500)\n",
    "pd.set_option('display.max_columns', 500)\n",
    "pd.set_option('display.width', 1000)\n",
    "# let's allow our dataframe printouts in jupyter to be larger"
   ]
  },
  {
   "cell_type": "code",
   "execution_count": 49,
   "metadata": {},
   "outputs": [],
   "source": [
    "\n",
    "# .npy is a numpy file storage format"
   ]
  },
  {
   "cell_type": "markdown",
   "metadata": {},
   "source": [
    "#### What is this `simple_image`? "
   ]
  },
  {
   "cell_type": "code",
   "execution_count": null,
   "metadata": {},
   "outputs": [],
   "source": []
  },
  {
   "cell_type": "markdown",
   "metadata": {},
   "source": [
    "#### What is this `simple_image`'s datatype?"
   ]
  },
  {
   "cell_type": "code",
   "execution_count": null,
   "metadata": {},
   "outputs": [],
   "source": []
  },
  {
   "cell_type": "markdown",
   "metadata": {},
   "source": [
    "#### Can I plot an `.ndarray` like a DataFrame? "
   ]
  },
  {
   "cell_type": "code",
   "execution_count": null,
   "metadata": {},
   "outputs": [],
   "source": []
  },
  {
   "cell_type": "markdown",
   "metadata": {},
   "source": [
    "#### Interesting... Perhaps I can \"show this array\" somehow!"
   ]
  },
  {
   "cell_type": "code",
   "execution_count": null,
   "metadata": {},
   "outputs": [],
   "source": []
  },
  {
   "cell_type": "code",
   "execution_count": 22,
   "metadata": {},
   "outputs": [],
   "source": [
    "# save our image"
   ]
  },
  {
   "cell_type": "markdown",
   "metadata": {},
   "source": [
    "#### Let's look at some LANDSAT 8 Data\n",
    "\n",
    "> Bands 2, 3, and 4 are visible blue, green, and red. Source: https://landsat.gsfc.nasa.gov/landsat-8/landsat-8-bands/\n",
    "\n",
    "\n",
    "Much of this is referenced from: https://automating-gis-processes.github.io/CSC/lessons/L5/overview.html"
   ]
  },
  {
   "cell_type": "code",
   "execution_count": 56,
   "metadata": {},
   "outputs": [],
   "source": [
    "import rasterio  # you may need to install rasterio, conda install rasterio\n",
    "from rasterio.plot import show\n",
    "import os\n",
    "import numpy as np\n",
    "import urllib.request"
   ]
  },
  {
   "cell_type": "code",
   "execution_count": 57,
   "metadata": {},
   "outputs": [],
   "source": [
    "# https://automating-gis-processes.github.io/CSC/notebooks/L5/reading-raster.html\n",
    "raster_url = 'https://github.com/Automating-GIS-processes/CSC18/raw/master/data/Helsinki_masked_p188r018_7t20020529_z34__LV-FIN.tif'\n"
   ]
  },
  {
   "cell_type": "code",
   "execution_count": 23,
   "metadata": {},
   "outputs": [],
   "source": [
    "# https://automating-gis-processes.github.io/CSC/notebooks/L5/reading-raster.html\n",
    "helsinki_file = 'data/raster/Helsinki_masked_p188r018_7t20020529_z34__LV-FIN.tif'\n",
    "\n",
    "## your code here\n",
    "## your code here\n",
    "## your code here"
   ]
  },
  {
   "cell_type": "code",
   "execution_count": 24,
   "metadata": {},
   "outputs": [],
   "source": [
    "# https://automating-gis-processes.github.io/CSC/notebooks/L5/reading-raster.html\n",
    "\n"
   ]
  },
  {
   "cell_type": "markdown",
   "metadata": {},
   "source": [
    "#### Check type of the variable 'raster'\n",
    "Source: https://automating-gis-processes.github.io/CSC/notebooks/L5/reading-raster.html"
   ]
  },
  {
   "cell_type": "code",
   "execution_count": null,
   "metadata": {},
   "outputs": [],
   "source": []
  },
  {
   "cell_type": "markdown",
   "metadata": {},
   "source": [
    "#### Show our Raster"
   ]
  },
  {
   "cell_type": "code",
   "execution_count": null,
   "metadata": {},
   "outputs": [],
   "source": []
  },
  {
   "cell_type": "code",
   "execution_count": null,
   "metadata": {},
   "outputs": [],
   "source": []
  },
  {
   "cell_type": "markdown",
   "metadata": {},
   "source": [
    "#### What is the height and width in pixels of our Raster? "
   ]
  },
  {
   "cell_type": "code",
   "execution_count": null,
   "metadata": {},
   "outputs": [],
   "source": []
  },
  {
   "cell_type": "code",
   "execution_count": null,
   "metadata": {},
   "outputs": [],
   "source": []
  },
  {
   "cell_type": "markdown",
   "metadata": {},
   "source": [
    "#### What is the raster's driver-type? "
   ]
  },
  {
   "cell_type": "code",
   "execution_count": 25,
   "metadata": {},
   "outputs": [],
   "source": [
    "\n",
    "# geotiff"
   ]
  },
  {
   "cell_type": "markdown",
   "metadata": {},
   "source": [
    "#### What is the raster's bounds? "
   ]
  },
  {
   "cell_type": "code",
   "execution_count": null,
   "metadata": {},
   "outputs": [],
   "source": []
  },
  {
   "cell_type": "markdown",
   "metadata": {},
   "source": [
    "#### Metadata for the Raster"
   ]
  },
  {
   "cell_type": "code",
   "execution_count": null,
   "metadata": {},
   "outputs": [],
   "source": []
  },
  {
   "cell_type": "markdown",
   "metadata": {},
   "source": [
    "#### Access one of the 7 Bands"
   ]
  },
  {
   "cell_type": "code",
   "execution_count": null,
   "metadata": {},
   "outputs": [],
   "source": []
  },
  {
   "cell_type": "markdown",
   "metadata": {},
   "source": [
    "#### View Band 1 as a DataFrame"
   ]
  },
  {
   "cell_type": "code",
   "execution_count": null,
   "metadata": {},
   "outputs": [],
   "source": []
  },
  {
   "cell_type": "markdown",
   "metadata": {},
   "source": [
    "#### Read all the Bands and Calculate Statistics"
   ]
  },
  {
   "cell_type": "code",
   "execution_count": 28,
   "metadata": {},
   "outputs": [],
   "source": [
    "# https://automating-gis-processes.github.io/CSC/notebooks/L5/reading-raster.html\n",
    "\n",
    "# Read all bands\n",
    "array = raster.read()\n",
    "\n",
    "# Calculate statistics for each band\n",
    "stats = []\n",
    "for band in array:\n",
    "    stats.append({\n",
    "        'min': band.min(),\n",
    "        'mean': band.mean(),\n",
    "        'median': np.median(band),\n",
    "        'max': band.max()})\n",
    "\n",
    "# Show stats for each channel\n",
    "stats"
   ]
  },
  {
   "cell_type": "markdown",
   "metadata": {},
   "source": [
    "#### Our raster has multiple bands, let's show the Red, Green, Blue Bands"
   ]
  },
  {
   "cell_type": "code",
   "execution_count": 29,
   "metadata": {},
   "outputs": [],
   "source": [
    "# https://automating-gis-processes.github.io/CSC/notebooks/L5/reading-raster.html\n",
    "\n",
    "# Initialize subplots\n",
    "fig, (ax1, ax2, ax3) = plt.subplots(ncols=3, nrows=1, figsize=(10, 4), sharey=True)\n",
    "\n",
    "# Plot Red, Green and Blue (rgb)\n",
    "show((raster, 4), cmap='Reds', ax=ax1)\n",
    "show((raster, 3), cmap='Greens', ax=ax2)\n",
    "show((raster, 1), cmap='Blues', ax=ax3)\n",
    "\n",
    "# Add titles\n",
    "ax1.set_title(\"Red\")\n",
    "ax2.set_title(\"Green\")\n",
    "ax3.set_title(\"Blue\");"
   ]
  },
  {
   "cell_type": "markdown",
   "metadata": {},
   "source": [
    "#### Making an RGB Composite\n",
    "\n",
    "Source: https://automating-gis-processes.github.io/CSC/notebooks/L5/reading-raster.html\n"
   ]
  },
  {
   "cell_type": "code",
   "execution_count": 30,
   "metadata": {},
   "outputs": [],
   "source": [
    "# https://automating-gis-processes.github.io/CSC/notebooks/L5/reading-raster.html\n",
    "\n",
    "red = raster.read(3)\n",
    "green = raster.read(2)\n",
    "blue = raster.read(1)\n",
    "\n",
    "# Function to normalize the grid values\n",
    "def normalize(array):\n",
    "    \"\"\"Normalizes numpy arrays into scale 0.0 - 1.0\"\"\"\n",
    "    array_min, array_max = array.min(), array.max()\n",
    "    return ((array - array_min)/(array_max - array_min))\n",
    "\n",
    "# Normalize the bands\n",
    "redn = normalize(red)\n",
    "greenn = normalize(green)\n",
    "bluen = normalize(blue)\n",
    "\n",
    "print(\"Normalized bands\")\n",
    "print(redn.min(), '-', redn.max(), 'mean:', redn.mean())\n",
    "print(greenn.min(), '-', greenn.max(), 'mean:', greenn.mean())\n",
    "print(bluen.min(), '-', bluen.max(), 'mean:', bluen.mean())"
   ]
  },
  {
   "cell_type": "markdown",
   "metadata": {},
   "source": [
    "#### Plot the RGB Composite\n",
    "\n",
    "Source: https://automating-gis-processes.github.io/CSC/notebooks/L5/reading-raster.html\n"
   ]
  },
  {
   "cell_type": "code",
   "execution_count": 31,
   "metadata": {},
   "outputs": [],
   "source": [
    "plt.figure(figsize = (20,20))\n",
    "\n",
    "# Create RGB natural color composite\n",
    "rgb = np.dstack((redn, greenn, bluen))\n",
    "\n",
    "# Let's see how our color composite looks like\n",
    "plt.imshow(rgb, aspect='auto');"
   ]
  },
  {
   "cell_type": "markdown",
   "metadata": {},
   "source": [
    "\n",
    "\n"
   ]
  },
  {
   "cell_type": "markdown",
   "metadata": {},
   "source": []
  },
  {
   "cell_type": "markdown",
   "metadata": {},
   "source": [
    "# For next time\n",
    "\n",
    "* Geocoding\n",
    "  * https://geopy.readthedocs.io/en/stable/\n",
    "\n",
    "Network OSM\n",
    "\n",
    "```$ pip install osmnx==0.11```\n",
    "\n",
    "https://geoffboeing.com/2016/11/osmnx-python-street-networks/\n",
    "    \n",
    "    https://github.com/gboeing/osmnx\n",
    "        \n",
    "    https://osmnx.readthedocs.io/en/stable/\n",
    "        \n",
    "* Include whether Forks can be updated from the source Repo\n",
    "\n",
    "* Create tools repository\n",
    "  * From tools show lesson on Python dots .  \n",
    "    * So: `from tools.helper import some_function`\n",
    "    \n",
    "\n",
    "\n"
   ]
  },
  {
   "cell_type": "markdown",
   "metadata": {},
   "source": [
    "## In Remembrance\n",
    "\n",
    "![john_prine](https://www.rollingstone.com/wp-content/uploads/2020/03/john-prine-obit.jpg?resize=1800,1200&w=300)"
   ]
  }
 ],
 "metadata": {
  "kernelspec": {
   "display_name": "Python 3",
   "language": "python",
   "name": "python3"
  },
  "language_info": {
   "codemirror_mode": {
    "name": "ipython",
    "version": 3
   },
   "file_extension": ".py",
   "mimetype": "text/x-python",
   "name": "python",
   "nbconvert_exporter": "python",
   "pygments_lexer": "ipython3",
   "version": "3.7.4"
  },
  "toc": {
   "base_numbering": 1,
   "nav_menu": {},
   "number_sections": false,
   "sideBar": true,
   "skip_h1_title": false,
   "title_cell": "Table of Contents",
   "title_sidebar": "Contents",
   "toc_cell": true,
   "toc_position": {
    "height": "calc(100% - 180px)",
    "left": "10px",
    "top": "150px",
    "width": "198.892px"
   },
   "toc_section_display": true,
   "toc_window_display": true
  }
 },
 "nbformat": 4,
 "nbformat_minor": 2
}
